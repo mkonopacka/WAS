{
 "cells": [
  {
   "attachments": {},
   "cell_type": "markdown",
   "metadata": {},
   "source": [
    "# Lista 8 z WAS: Testowanie hipotez "
   ]
  },
  {
   "cell_type": "code",
   "execution_count": 1,
   "metadata": {},
   "outputs": [],
   "source": [
    "import numpy as np\n",
    "import pandas as pd"
   ]
  },
  {
   "attachments": {},
   "cell_type": "markdown",
   "metadata": {},
   "source": [
    "## Zadanie 1"
   ]
  },
  {
   "cell_type": "code",
   "execution_count": 2,
   "metadata": {},
   "outputs": [
    {
     "data": {
      "text/html": [
       "<div>\n",
       "<style scoped>\n",
       "    .dataframe tbody tr th:only-of-type {\n",
       "        vertical-align: middle;\n",
       "    }\n",
       "\n",
       "    .dataframe tbody tr th {\n",
       "        vertical-align: top;\n",
       "    }\n",
       "\n",
       "    .dataframe thead th {\n",
       "        text-align: right;\n",
       "    }\n",
       "</style>\n",
       "<table border=\"1\" class=\"dataframe\">\n",
       "  <thead>\n",
       "    <tr style=\"text-align: right;\">\n",
       "      <th></th>\n",
       "      <th>1</th>\n",
       "      <th>2</th>\n",
       "      <th>3</th>\n",
       "      <th>4</th>\n",
       "    </tr>\n",
       "  </thead>\n",
       "  <tbody>\n",
       "    <tr>\n",
       "      <th>1</th>\n",
       "      <td>1.00</td>\n",
       "      <td>0.60</td>\n",
       "      <td>-0.36</td>\n",
       "      <td>-0.53</td>\n",
       "    </tr>\n",
       "    <tr>\n",
       "      <th>2</th>\n",
       "      <td>0.60</td>\n",
       "      <td>1.00</td>\n",
       "      <td>-0.46</td>\n",
       "      <td>-0.37</td>\n",
       "    </tr>\n",
       "    <tr>\n",
       "      <th>3</th>\n",
       "      <td>-0.36</td>\n",
       "      <td>-0.46</td>\n",
       "      <td>1.00</td>\n",
       "      <td>0.37</td>\n",
       "    </tr>\n",
       "    <tr>\n",
       "      <th>4</th>\n",
       "      <td>-0.53</td>\n",
       "      <td>-0.37</td>\n",
       "      <td>0.37</td>\n",
       "      <td>1.00</td>\n",
       "    </tr>\n",
       "  </tbody>\n",
       "</table>\n",
       "</div>"
      ],
      "text/plain": [
       "      1     2     3     4\n",
       "1  1.00  0.60 -0.36 -0.53\n",
       "2  0.60  1.00 -0.46 -0.37\n",
       "3 -0.36 -0.46  1.00  0.37\n",
       "4 -0.53 -0.37  0.37  1.00"
      ]
     },
     "execution_count": 2,
     "metadata": {},
     "output_type": "execute_result"
    }
   ],
   "source": [
    "n = 47\n",
    "corr_full = pd.DataFrame(np.array([\n",
    "    [1, 0.6, -0.36, -0.53],\n",
    "    [0.6 ,1, -0.46, -0.37],\n",
    "    [-0.36, -0.46, 1, 0.37],\n",
    "    [-0.53, -0.37, 0.37, 1]\n",
    "]))\n",
    "\n",
    "corr_full.columns = list(range(1,5))\n",
    "corr_full.index= list(range(1,5))\n",
    "corr_full"
   ]
  },
  {
   "attachments": {},
   "cell_type": "markdown",
   "metadata": {},
   "source": [
    "### Zadanie 1a: testowanie korelacji cząstkowej "
   ]
  },
  {
   "attachments": {},
   "cell_type": "markdown",
   "metadata": {},
   "source": [
    "W podpunkcie a. najpierw wyznaczamy współczynnik $r := \\rho_{12|3}$ korzystając tym razem ze wzoru  z zadania 1 z listy 6:\n",
    "$$\\rho_{ij|k} = \\frac{\\rho_{ij} - \\rho_{ik}\\rho_{jk}}{\\sqrt{(1 - \\rho^2_{ik})(1 - \\rho_{jk}^2)}}.$$"
   ]
  },
  {
   "cell_type": "code",
   "execution_count": 3,
   "metadata": {},
   "outputs": [
    {
     "name": "stdout",
     "output_type": "stream",
     "text": [
      "Wspolczynnik korelacji 12|3 wyniosl: 0.524\n"
     ]
    }
   ],
   "source": [
    "def get_partial_ij_k(corr: pd.DataFrame, i:int, j:int, k:int) -> float:\n",
    "    ij = corr.loc[i,j]\n",
    "    ik = corr.loc[i,k]\n",
    "    jk = corr.loc[j,k]\n",
    "    return (ij - ik*jk)/np.sqrt((1 - ik**2)*(1 - jk**2))\n",
    "\n",
    "r = get_partial_ij_k(corr_full, 1, 2, 3)\n",
    "print(f\"Wspolczynnik korelacji 12|3 wyniosl: {r:.3f}\")"
   ]
  },
  {
   "attachments": {},
   "cell_type": "markdown",
   "metadata": {},
   "source": [
    "Dla porównania niżej wyliczamy ten sam współczynnik z użyciem funkcji z listy 7 (sposób macierzowy):"
   ]
  },
  {
   "cell_type": "code",
   "execution_count": 4,
   "metadata": {},
   "outputs": [
    {
     "data": {
      "text/plain": [
       "0.524"
      ]
     },
     "execution_count": 4,
     "metadata": {},
     "output_type": "execute_result"
    }
   ],
   "source": [
    "import utils_7 as L7\n",
    "L7.get_partial_ij_ks(corr_full,1,2,[3]).round(3)"
   ]
  },
  {
   "attachments": {},
   "cell_type": "markdown",
   "metadata": {},
   "source": [
    "W dalszej częsci podpunktu a. testujemy hipotezę $H_0: r = 0$ przeciwko $H_1: r \\neq 0$ z użyciem testu dwustronnego ze statystyką testową\n",
    "$$T = \\hat r \\sqrt{\\frac{N - q - 2}{1 - r^2}},$$\n",
    "gdzie $N$ jest liczebnością próby, a $q$ liczbą zmiennych warunkujących. Statystyka ta ma rozkład t-Studenta z $N-2-q$ stopniami swobody (patrz str. 7 wykładu 7). Odrzucimy hipotezę zerową, jeśli wartość bezwzględna T będzie większa niż kwantyl $1 - \\frac{\\alpha}{2}.$ "
   ]
  },
  {
   "cell_type": "code",
   "execution_count": 5,
   "metadata": {},
   "outputs": [
    {
     "name": "stdout",
     "output_type": "stream",
     "text": [
      "Kwantyl: 2.015 | Statystyka testowa: 3.468\n"
     ]
    }
   ],
   "source": [
    "from scipy import stats\n",
    "N = 47\n",
    "q = 1\n",
    "alpha = 0.05\n",
    "\n",
    "# https://docs.scipy.org/doc/scipy/reference/generated/scipy.stats.t.html\n",
    "qt = stats.t.ppf(q = 1 - alpha/2, df = N-q-2)\n",
    "t_stat = r*np.sqrt((N-q-2)/1-r**2)\n",
    "print(f\"Kwantyl: {qt:.3f} | Statystyka testowa: {t_stat:.3f}\")"
   ]
  },
  {
   "attachments": {},
   "cell_type": "markdown",
   "metadata": {},
   "source": [
    "Ponieważ $T > q_t$, odrzucamy hipotezę zerową na zadanym poziomie istotności, tzn. mówimy że istnieje niezerowa korelacja cząstkowa $\\rho_{12|3}$."
   ]
  },
  {
   "attachments": {},
   "cell_type": "markdown",
   "metadata": {},
   "source": [
    "### Zadanie 1b: testowanie korelacji wielokrotnej"
   ]
  },
  {
   "attachments": {},
   "cell_type": "markdown",
   "metadata": {},
   "source": [
    "Współczynnik korelacji wielokrotnej wyznaczamy ze wzoru $$R_{1|234} = \\sqrt{1 - \\frac{det C}{C_{11}}},$$\n",
    "gdzie $C$ to pełna macierz korelacji a $C_{11}$ dopełnienie algebraiczne elementu $1,1$."
   ]
  },
  {
   "cell_type": "code",
   "execution_count": 6,
   "metadata": {},
   "outputs": [
    {
     "name": "stdout",
     "output_type": "stream",
     "text": [
      "Wspolczynnik korelacji R_1|234 wyniosl: 0.686\n"
     ]
    }
   ],
   "source": [
    "det_C = np.linalg.det(corr_full.to_numpy())\n",
    "C_11 = (-1)**(1+1) * np.linalg.det(corr_full.to_numpy()[1:,1:]) # bez pierwszego wiersza i kolumny\n",
    "R = np.sqrt(1 - det_C/C_11)\n",
    "print(f\"Wspolczynnik korelacji R_1|234 wyniosl: {R:.3f}\")"
   ]
  },
  {
   "attachments": {},
   "cell_type": "markdown",
   "metadata": {},
   "source": [
    "**UWAGA: R nie przyjmuje wartości ujemnych, więc hipoteza jest jednostronna**.\n",
    "W dalszej części testujemy hipotezę $H_0: R = 0$ przeciwko $H_1: R> 0$ z użyciem statystyki testowej \n",
    "$$F = \\frac{N-n}{n-1}\\frac{\\hat R^2}{1 - \\hat R^2},$$\n",
    "gdzie $N$ to liczebność próby, $n$ - wymiarowość rozkładu, a $\\hat R$ estymator próbkowy. Statystyka ta ma rozkład F-Snedecora $F(n-1,N-n)$ (patrz wykład 8).\n",
    "\n",
    "**Uwaga: Hipoteza jest jednostronny. Dlatego nie dzielimy $\\alpha$ przez 2. Ale nie ma to nic wspólnego z tym że rozkład jest niesymetryczny!**"
   ]
  },
  {
   "cell_type": "code",
   "execution_count": 7,
   "metadata": {},
   "outputs": [
    {
     "name": "stdout",
     "output_type": "stream",
     "text": [
      "Kwantyl: 2.822 | Statystyka testowa: 12.717\n"
     ]
    }
   ],
   "source": [
    "n = 4\n",
    "F_stat = ((N-n)*R**2) / ((n-1)*(1-R**2))\n",
    "qf = stats.f.ppf(1 - alpha, n-1, N-n)\n",
    "print(f\"Kwantyl: {qf:.3f} | Statystyka testowa: {F_stat:.3f}\")"
   ]
  },
  {
   "attachments": {},
   "cell_type": "markdown",
   "metadata": {},
   "source": [
    "Statystyka testowa leży w obszarze krytycznym (i to bardzo), więc odrzucamy hipotezę zerową i mówimy że istnieje zależność (liniowa?) pierwszej zmiennej od pozostałych."
   ]
  },
  {
   "attachments": {},
   "cell_type": "markdown",
   "metadata": {},
   "source": [
    "## Zadanie 2: testowanie hipotez o średniej rozkładu wielowymiarowego\n",
    "Testujemy hipotezę $\\mu = (0,0)$ przeciwko $\\mu \\neq (0,0)$ z użyciem statystyki testowej\n",
    "$$\\chi^2 = N D^T \\Sigma^{-1} D,$$\n",
    "gdzie $D = \\hat X - \\mu_0$ jest różnicą między wektorem średnich próbkowych a średnią w hipotezie zerowej. Statystyka ma rozkład z $n$ stopniami swobody (patrz str. 4 wykładu 7).\n",
    "\n",
    "W tym zadaniu chcemy ustalić jakie wartości powinny znaleźć się na przeciwprzekątnej macierzy $\\Sigma$, żeby odrzucić $H_0$ dla $\\alpha = 0.05$. Rozkład $\\chi^2$ jest jednostronny, więc nie dzielimy wartości przez dwa. Odrzucimy hipotezę dla wartości statystyki testowej większych od kwantyla $q$ na poziomie $1 - \\alpha$ rozkładu $\\chi^2_n$, który w naszym wypadku wyniósł:"
   ]
  },
  {
   "cell_type": "code",
   "execution_count": 8,
   "metadata": {},
   "outputs": [
    {
     "data": {
      "text/plain": [
       "5.99"
      ]
     },
     "execution_count": 8,
     "metadata": {},
     "output_type": "execute_result"
    }
   ],
   "source": [
    "qchi2 = stats.chi2.ppf(1-0.05, 2) # UWAGA! Statystyka chi2 a nie chi!!\n",
    "qchi2.round(2)"
   ]
  },
  {
   "attachments": {},
   "cell_type": "markdown",
   "metadata": {},
   "source": [
    "Wektor $D = (1,0)^T - (0,0)^T = (1,0)^T$, wtedy statystyka testowa wynosi $$N D^T \\Sigma^{-1} D = \\frac{N}{3 - \\tau^2} = \\frac{5}{3 - \\tau^2}.$$\n",
    "\n",
    "Mamy $\\frac{5}{3 - \\tau^2} > q \\iff ... \\iff |\\tau| > \\sqrt{3 - \\frac{5}{q}}.$ Wyliczamy wartość wyrażenia po prawej stronie:"
   ]
  },
  {
   "cell_type": "code",
   "execution_count": 9,
   "metadata": {},
   "outputs": [
    {
     "data": {
      "text/plain": [
       "1.4715568280775515"
      ]
     },
     "execution_count": 9,
     "metadata": {},
     "output_type": "execute_result"
    }
   ],
   "source": [
    "np.sqrt(3 - 5/qchi2)"
   ]
  },
  {
   "attachments": {},
   "cell_type": "markdown",
   "metadata": {},
   "source": [
    "**Odp:** Hipotezę należy odrzucić dla wartości $|\\tau| > 1.47$."
   ]
  },
  {
   "attachments": {},
   "cell_type": "markdown",
   "metadata": {},
   "source": [
    "## Zadanie 3"
   ]
  },
  {
   "attachments": {},
   "cell_type": "markdown",
   "metadata": {},
   "source": [
    "- S - estymator macierzy kowariancji\n"
   ]
  },
  {
   "attachments": {},
   "cell_type": "markdown",
   "metadata": {},
   "source": [
    "### Sposób 1: bez Hotellinga (M.B.)\n",
    "Możemy przekształcić naszą hipotezę do postaci 1-wymiarowej:\n",
    "$$2 \\mu_1 = mu_2 + \\mu_3 \\iff (\\mu_1 - \\mu_2 - $$"
   ]
  },
  {
   "cell_type": "code",
   "execution_count": null,
   "metadata": {},
   "outputs": [],
   "source": []
  },
  {
   "attachments": {},
   "cell_type": "markdown",
   "metadata": {},
   "source": [
    "## Zadanie 4"
   ]
  },
  {
   "attachments": {},
   "cell_type": "markdown",
   "metadata": {},
   "source": [
    "## Zadanie 5"
   ]
  }
 ],
 "metadata": {
  "kernelspec": {
   "display_name": "tf",
   "language": "python",
   "name": "python3"
  },
  "language_info": {
   "codemirror_mode": {
    "name": "ipython",
    "version": 3
   },
   "file_extension": ".py",
   "mimetype": "text/x-python",
   "name": "python",
   "nbconvert_exporter": "python",
   "pygments_lexer": "ipython3",
   "version": "3.9.16"
  },
  "orig_nbformat": 4
 },
 "nbformat": 4,
 "nbformat_minor": 2
}
