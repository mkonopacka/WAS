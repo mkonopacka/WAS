{
 "cells": [
  {
   "attachments": {},
   "cell_type": "markdown",
   "metadata": {},
   "source": [
    "# Lista 8 z WAS: Testowanie hipotez "
   ]
  },
  {
   "cell_type": "code",
   "execution_count": 2,
   "metadata": {},
   "outputs": [],
   "source": [
    "import numpy as np\n",
    "import pandas as pd\n",
    "from scipy import stats"
   ]
  },
  {
   "attachments": {},
   "cell_type": "markdown",
   "metadata": {},
   "source": [
    "## Zadanie 1"
   ]
  },
  {
   "cell_type": "code",
   "execution_count": 2,
   "metadata": {},
   "outputs": [
    {
     "data": {
      "text/html": [
       "<div>\n",
       "<style scoped>\n",
       "    .dataframe tbody tr th:only-of-type {\n",
       "        vertical-align: middle;\n",
       "    }\n",
       "\n",
       "    .dataframe tbody tr th {\n",
       "        vertical-align: top;\n",
       "    }\n",
       "\n",
       "    .dataframe thead th {\n",
       "        text-align: right;\n",
       "    }\n",
       "</style>\n",
       "<table border=\"1\" class=\"dataframe\">\n",
       "  <thead>\n",
       "    <tr style=\"text-align: right;\">\n",
       "      <th></th>\n",
       "      <th>1</th>\n",
       "      <th>2</th>\n",
       "      <th>3</th>\n",
       "      <th>4</th>\n",
       "    </tr>\n",
       "  </thead>\n",
       "  <tbody>\n",
       "    <tr>\n",
       "      <th>1</th>\n",
       "      <td>1.00</td>\n",
       "      <td>0.60</td>\n",
       "      <td>-0.36</td>\n",
       "      <td>-0.53</td>\n",
       "    </tr>\n",
       "    <tr>\n",
       "      <th>2</th>\n",
       "      <td>0.60</td>\n",
       "      <td>1.00</td>\n",
       "      <td>-0.46</td>\n",
       "      <td>-0.37</td>\n",
       "    </tr>\n",
       "    <tr>\n",
       "      <th>3</th>\n",
       "      <td>-0.36</td>\n",
       "      <td>-0.46</td>\n",
       "      <td>1.00</td>\n",
       "      <td>0.37</td>\n",
       "    </tr>\n",
       "    <tr>\n",
       "      <th>4</th>\n",
       "      <td>-0.53</td>\n",
       "      <td>-0.37</td>\n",
       "      <td>0.37</td>\n",
       "      <td>1.00</td>\n",
       "    </tr>\n",
       "  </tbody>\n",
       "</table>\n",
       "</div>"
      ],
      "text/plain": [
       "      1     2     3     4\n",
       "1  1.00  0.60 -0.36 -0.53\n",
       "2  0.60  1.00 -0.46 -0.37\n",
       "3 -0.36 -0.46  1.00  0.37\n",
       "4 -0.53 -0.37  0.37  1.00"
      ]
     },
     "execution_count": 2,
     "metadata": {},
     "output_type": "execute_result"
    }
   ],
   "source": [
    "n = 47\n",
    "corr_full = pd.DataFrame(np.array([\n",
    "    [1, 0.6, -0.36, -0.53],\n",
    "    [0.6 ,1, -0.46, -0.37],\n",
    "    [-0.36, -0.46, 1, 0.37],\n",
    "    [-0.53, -0.37, 0.37, 1]\n",
    "]))\n",
    "\n",
    "corr_full.columns = list(range(1,5))\n",
    "corr_full.index= list(range(1,5))\n",
    "corr_full"
   ]
  },
  {
   "attachments": {},
   "cell_type": "markdown",
   "metadata": {},
   "source": [
    "### Zadanie 1a: testowanie korelacji cząstkowej "
   ]
  },
  {
   "attachments": {},
   "cell_type": "markdown",
   "metadata": {},
   "source": [
    "W podpunkcie a. najpierw wyznaczamy współczynnik $r := \\rho_{12|3}$ korzystając tym razem ze wzoru  z zadania 1 z listy 6:\n",
    "$$\\rho_{ij|k} = \\frac{\\rho_{ij} - \\rho_{ik}\\rho_{jk}}{\\sqrt{(1 - \\rho^2_{ik})(1 - \\rho_{jk}^2)}}.$$"
   ]
  },
  {
   "cell_type": "code",
   "execution_count": 3,
   "metadata": {},
   "outputs": [
    {
     "name": "stdout",
     "output_type": "stream",
     "text": [
      "Wspolczynnik korelacji 12|3 wyniosl: 0.524\n"
     ]
    }
   ],
   "source": [
    "def get_partial_ij_k(corr: pd.DataFrame, i:int, j:int, k:int) -> float:\n",
    "    ij = corr.loc[i,j]\n",
    "    ik = corr.loc[i,k]\n",
    "    jk = corr.loc[j,k]\n",
    "    return (ij - ik*jk)/np.sqrt((1 - ik**2)*(1 - jk**2))\n",
    "\n",
    "r = get_partial_ij_k(corr_full, 1, 2, 3)\n",
    "print(f\"Wspolczynnik korelacji 12|3 wyniosl: {r:.3f}\")"
   ]
  },
  {
   "attachments": {},
   "cell_type": "markdown",
   "metadata": {},
   "source": [
    "Dla porównania niżej wyliczamy ten sam współczynnik z użyciem funkcji z listy 7 (sposób macierzowy):"
   ]
  },
  {
   "cell_type": "code",
   "execution_count": 4,
   "metadata": {},
   "outputs": [
    {
     "data": {
      "text/plain": [
       "0.524"
      ]
     },
     "execution_count": 4,
     "metadata": {},
     "output_type": "execute_result"
    }
   ],
   "source": [
    "import utils_7 as L7\n",
    "L7.get_partial_ij_ks(corr_full,1,2,[3]).round(3)"
   ]
  },
  {
   "attachments": {},
   "cell_type": "markdown",
   "metadata": {},
   "source": [
    "W dalszej częsci podpunktu a. testujemy hipotezę $H_0: r = 0$ przeciwko $H_1: r \\neq 0$ z użyciem testu dwustronnego ze statystyką testową\n",
    "$$T = \\hat r \\sqrt{\\frac{N - q - 2}{1 - r^2}},$$\n",
    "gdzie $N$ jest liczebnością próby, a $q$ liczbą zmiennych warunkujących. Statystyka ta ma rozkład t-Studenta z $N-2-q$ stopniami swobody (patrz str. 7 wykładu 7). Odrzucimy hipotezę zerową, jeśli wartość bezwzględna T będzie większa niż kwantyl $1 - \\frac{\\alpha}{2}.$ "
   ]
  },
  {
   "cell_type": "code",
   "execution_count": 5,
   "metadata": {},
   "outputs": [
    {
     "name": "stdout",
     "output_type": "stream",
     "text": [
      "Kwantyl: 2.015 | Statystyka testowa: 3.468\n"
     ]
    }
   ],
   "source": [
    "from scipy import stats\n",
    "N = 47\n",
    "q = 1\n",
    "alpha = 0.05\n",
    "\n",
    "# https://docs.scipy.org/doc/scipy/reference/generated/scipy.stats.t.html\n",
    "qt = stats.t.ppf(q = 1 - alpha/2, df = N-q-2)\n",
    "t_stat = r*np.sqrt((N-q-2)/1-r**2)\n",
    "print(f\"Kwantyl: {qt:.3f} | Statystyka testowa: {t_stat:.3f}\")"
   ]
  },
  {
   "attachments": {},
   "cell_type": "markdown",
   "metadata": {},
   "source": [
    "Ponieważ $T > q_t$, odrzucamy hipotezę zerową na zadanym poziomie istotności, tzn. mówimy że istnieje niezerowa korelacja cząstkowa $\\rho_{12|3}$."
   ]
  },
  {
   "attachments": {},
   "cell_type": "markdown",
   "metadata": {},
   "source": [
    "### Zadanie 1b: testowanie korelacji wielokrotnej"
   ]
  },
  {
   "attachments": {},
   "cell_type": "markdown",
   "metadata": {},
   "source": [
    "Współczynnik korelacji wielokrotnej wyznaczamy ze wzoru $$R_{1|234} = \\sqrt{1 - \\frac{det C}{C_{11}}},$$\n",
    "gdzie $C$ to pełna macierz korelacji a $C_{11}$ dopełnienie algebraiczne elementu $1,1$."
   ]
  },
  {
   "cell_type": "code",
   "execution_count": 6,
   "metadata": {},
   "outputs": [
    {
     "name": "stdout",
     "output_type": "stream",
     "text": [
      "Wspolczynnik korelacji R_1|234 wyniosl: 0.686\n"
     ]
    }
   ],
   "source": [
    "det_C = np.linalg.det(corr_full.to_numpy())\n",
    "C_11 = (-1)**(1+1) * np.linalg.det(corr_full.to_numpy()[1:,1:]) # bez pierwszego wiersza i kolumny\n",
    "R = np.sqrt(1 - det_C/C_11)\n",
    "print(f\"Wspolczynnik korelacji R_1|234 wyniosl: {R:.3f}\")"
   ]
  },
  {
   "attachments": {},
   "cell_type": "markdown",
   "metadata": {},
   "source": [
    "**UWAGA: R nie przyjmuje wartości ujemnych, więc hipoteza jest jednostronna**.\n",
    "W dalszej części testujemy hipotezę $H_0: R = 0$ przeciwko $H_1: R> 0$ z użyciem statystyki testowej \n",
    "$$F = \\frac{N-n}{n-1}\\frac{\\hat R^2}{1 - \\hat R^2},$$\n",
    "gdzie $N$ to liczebność próby, $n$ - wymiarowość rozkładu, a $\\hat R$ estymator próbkowy. Statystyka ta ma rozkład F-Snedecora $F(n-1,N-n)$ (patrz wykład 8).\n",
    "\n",
    "**Uwaga: Hipoteza jest jednostronny. Dlatego nie dzielimy $\\alpha$ przez 2. Ale nie ma to nic wspólnego z tym że rozkład jest niesymetryczny!**"
   ]
  },
  {
   "cell_type": "code",
   "execution_count": 7,
   "metadata": {},
   "outputs": [
    {
     "name": "stdout",
     "output_type": "stream",
     "text": [
      "Kwantyl: 2.822 | Statystyka testowa: 12.717\n"
     ]
    }
   ],
   "source": [
    "n = 4\n",
    "F_stat = ((N-n)*R**2) / ((n-1)*(1-R**2))\n",
    "qf = stats.f.ppf(1 - alpha, n-1, N-n)\n",
    "print(f\"Kwantyl: {qf:.3f} | Statystyka testowa: {F_stat:.3f}\")"
   ]
  },
  {
   "attachments": {},
   "cell_type": "markdown",
   "metadata": {},
   "source": [
    "Statystyka testowa leży w obszarze krytycznym (i to bardzo), więc odrzucamy hipotezę zerową i mówimy że istnieje zależność (liniowa?) pierwszej zmiennej od pozostałych."
   ]
  },
  {
   "attachments": {},
   "cell_type": "markdown",
   "metadata": {},
   "source": [
    "## Zadanie 2: testowanie hipotez o średniej rozkładu wielowymiarowego\n",
    "Testujemy hipotezę $\\mu = (0,0)$ przeciwko $\\mu \\neq (0,0)$ z użyciem statystyki testowej\n",
    "$$\\chi^2 = N D^T \\Sigma^{-1} D,$$\n",
    "gdzie $D = \\hat X - \\mu_0$ jest różnicą między wektorem średnich próbkowych a średnią w hipotezie zerowej. Statystyka ma rozkład z $n$ stopniami swobody (patrz str. 4 wykładu 7).\n",
    "\n",
    "W tym zadaniu chcemy ustalić jakie wartości powinny znaleźć się na przeciwprzekątnej macierzy $\\Sigma$, żeby odrzucić $H_0$ dla $\\alpha = 0.05$. Rozkład $\\chi^2$ jest jednostronny, więc nie dzielimy wartości przez dwa. Odrzucimy hipotezę dla wartości statystyki testowej większych od kwantyla $q$ na poziomie $1 - \\alpha$ rozkładu $\\chi^2_n$, który w naszym wypadku wyniósł:"
   ]
  },
  {
   "cell_type": "code",
   "execution_count": 8,
   "metadata": {},
   "outputs": [
    {
     "data": {
      "text/plain": [
       "5.99"
      ]
     },
     "execution_count": 8,
     "metadata": {},
     "output_type": "execute_result"
    }
   ],
   "source": [
    "qchi2 = stats.chi2.ppf(1-0.05, 2) # UWAGA! Statystyka chi2 a nie chi!!\n",
    "qchi2.round(2)"
   ]
  },
  {
   "attachments": {},
   "cell_type": "markdown",
   "metadata": {},
   "source": [
    "Wektor $D = (1,0)^T - (0,0)^T = (1,0)^T$, wtedy statystyka testowa wynosi $$N D^T \\Sigma^{-1} D = \\frac{N}{3 - \\tau^2} = \\frac{5}{3 - \\tau^2}.$$\n",
    "\n",
    "Mamy $\\frac{5}{3 - \\tau^2} > q \\iff ... \\iff |\\tau| > \\sqrt{3 - \\frac{5}{q}}.$ Wyliczamy wartość wyrażenia po prawej stronie:"
   ]
  },
  {
   "cell_type": "code",
   "execution_count": 9,
   "metadata": {},
   "outputs": [
    {
     "data": {
      "text/plain": [
       "1.4715568280775515"
      ]
     },
     "execution_count": 9,
     "metadata": {},
     "output_type": "execute_result"
    }
   ],
   "source": [
    "np.sqrt(3 - 5/qchi2)"
   ]
  },
  {
   "attachments": {},
   "cell_type": "markdown",
   "metadata": {},
   "source": [
    "**Odp:** Hipotezę należy odrzucić dla wartości $|\\tau| > 1.47$."
   ]
  },
  {
   "attachments": {},
   "cell_type": "markdown",
   "metadata": {},
   "source": [
    "## Zadanie 3"
   ]
  },
  {
   "cell_type": "code",
   "execution_count": 9,
   "metadata": {},
   "outputs": [],
   "source": [
    "X_ = np.array([1,0,2]).T\n",
    "S = np.array([\n",
    "    [3, 2, 1],\n",
    "    [2, 3, 1],\n",
    "    [1, 1, 4]\n",
    "])\n",
    "\n",
    "N = 10\n",
    "n = 3\n",
    "alpha = 0.05"
   ]
  },
  {
   "cell_type": "code",
   "execution_count": 5,
   "metadata": {},
   "outputs": [],
   "source": [
    "def get_T2(X_, S, N, mu_0):\n",
    "    return N*(X_ - mu_0).T @ np.linalg.inv(S) @ (X_ - mu_0)"
   ]
  },
  {
   "cell_type": "code",
   "execution_count": 7,
   "metadata": {},
   "outputs": [],
   "source": []
  },
  {
   "attachments": {},
   "cell_type": "markdown",
   "metadata": {},
   "source": [
    "## Zadanie 4: testy ze znanym $\\Sigma$\n",
    "Odpowiedzi:\n",
    "- a. stat = 4.78, q = 5.99, nie odrzucamy\n",
    "- b. stat = 12, q = 3.84, odrzucamy\n",
    "- c. stat = 0, q = 3.84, nie odrzucamy\n",
    "- d. stat = 3, q = 3.84, nie odrzucamy"
   ]
  },
  {
   "cell_type": "code",
   "execution_count": 3,
   "metadata": {},
   "outputs": [],
   "source": [
    "N = 6\n",
    "n = 2\n",
    "Sigma = np.array([[2,-1],[-1,2]])\n",
    "X_ = np.array([1,1/2]).T\n",
    "alpha = 0.05"
   ]
  },
  {
   "attachments": {},
   "cell_type": "markdown",
   "metadata": {},
   "source": [
    "### Zadanie 4a: $\\mu = \\mu_0$ vs $\\mu \\neq \\mu_0$ dla $= (2, 2/3)^T$\n",
    "W tym zadaniu używamy testu $\\chi^2$, ponieważ macierz kowariancji jest znana. Zauważmy, że do obliczenia statystyki testowej możemy użyć tej samej funkcji co do statystyki Hotellinga - jako `S` podajemy macierz kowariancji a nie jej estymator."
   ]
  },
  {
   "cell_type": "code",
   "execution_count": 6,
   "metadata": {},
   "outputs": [
    {
     "name": "stdout",
     "output_type": "stream",
     "text": [
      "Wartosc statystyki testowej: 4.78, kwantyl: 5.99\n"
     ]
    }
   ],
   "source": [
    "mu_0 = np.array([2, 2/3]).T\n",
    "chi2_stat = get_T2(X_, Sigma, N, mu_0)\n",
    "chi2_kwantyl = stats.chi2.ppf(q = 1-alpha, df = n)\n",
    "print(f\"Wartosc statystyki testowej: {chi2_stat:.2f}, kwantyl: {chi2_kwantyl:.2f}\")"
   ]
  },
  {
   "attachments": {},
   "cell_type": "markdown",
   "metadata": {},
   "source": [
    "Nie odrzucamy hipotezy zerowej."
   ]
  },
  {
   "attachments": {},
   "cell_type": "markdown",
   "metadata": {},
   "source": [
    "### Zadanie 4b\n",
    "W zadaniach b-d testujemy hipotezy postaci $H_0: a^T\\mu = a^T\\mu_0$ vs $H_1: a^T\\mu \\neq a^T\\mu_0$ dla różnych wektorów $a$. W zadaniu b mamy $a = (1, 1)^T$ i hipoteza zerowa jest postaci $H_0: C \\mu = \\mu_0$ dla $C = a$. Statystyka testowa jest postaci\n",
    "$$T^2 = N (C \\bar X - \\mu_0)^T (CS^{-1}C)^T (C \\bar X - \\mu_0)$$\n",
    "i ma rozkład chi-kwadrat **z k stopniami swobody, gdzie k to pierwszy wymiar C**, ponieważ macierz kowariancji jest znana."
   ]
  },
  {
   "cell_type": "code",
   "execution_count": 39,
   "metadata": {},
   "outputs": [
    {
     "name": "stdout",
     "output_type": "stream",
     "text": [
      "statystyka: 12.0, kwantyl: 3.84\n"
     ]
    }
   ],
   "source": [
    "C = np.array([[1, 1]])\n",
    "k = C.shape[0]\n",
    "mu_0 = 7/2\n",
    "T2_stat = N * (C @ X_ - mu_0).T @ np.linalg.inv(C @ Sigma @ C.T) @ (C @ X_ - mu_0)\n",
    "chi2_kwantyl = stats.chi2.ppf(q = 1-alpha, df = k)\n",
    "print(f\"statystyka: {T2_stat}, kwantyl: {chi2_kwantyl:.2f}\")"
   ]
  },
  {
   "attachments": {},
   "cell_type": "markdown",
   "metadata": {},
   "source": [
    "### Zadanie 4c"
   ]
  },
  {
   "cell_type": "code",
   "execution_count": 40,
   "metadata": {},
   "outputs": [
    {
     "name": "stdout",
     "output_type": "stream",
     "text": [
      "statystyka: 0.0, kwantyl: 3.84\n"
     ]
    }
   ],
   "source": [
    "C = np.array([[1, -1]])\n",
    "k = C.shape[0]\n",
    "mu_0 = 1/2\n",
    "T2_stat = N * (C @ X_ - mu_0).T @ np.linalg.inv(C @ Sigma @ C.T) @ (C @ X_ - mu_0)\n",
    "chi2_kwantyl = stats.chi2.ppf(q = 1-alpha, df = k)\n",
    "print(f\"statystyka: {T2_stat}, kwantyl: {chi2_kwantyl:.2f}\")"
   ]
  },
  {
   "attachments": {},
   "cell_type": "markdown",
   "metadata": {},
   "source": [
    "### Zadanie 4d"
   ]
  },
  {
   "cell_type": "code",
   "execution_count": 41,
   "metadata": {},
   "outputs": [
    {
     "name": "stdout",
     "output_type": "stream",
     "text": [
      "statystyka: 3.0, kwantyl: 3.84\n"
     ]
    }
   ],
   "source": [
    "C = np.array([[1, 0]])\n",
    "k = C.shape[0]\n",
    "mu_0 = 2\n",
    "T2_stat = N * (C @ X_ - mu_0).T @ np.linalg.inv(C @ Sigma @ C.T) @ (C @ X_ - mu_0)\n",
    "chi2_kwantyl = stats.chi2.ppf(q = 1-alpha, df = k)\n",
    "print(f\"statystyka: {T2_stat}, kwantyl: {chi2_kwantyl:.2f}\")"
   ]
  },
  {
   "attachments": {},
   "cell_type": "markdown",
   "metadata": {},
   "source": [
    "## Zadanie 5\n",
    "W tym zadaniu podmieniamy kwantyl chi-kwadrat na kwantyl Hotellinga.\n",
    "Odp:\n",
    "- statystyki testowe: takie same jak w 4\n",
    "- kwantyle: a. 17.36, b. 6.61, c. 6.61 d. 6.61\n",
    "- decyzje: ...\n"
   ]
  },
  {
   "attachments": {},
   "cell_type": "markdown",
   "metadata": {},
   "source": [
    "#### 5a"
   ]
  },
  {
   "cell_type": "code",
   "execution_count": 47,
   "metadata": {},
   "outputs": [
    {
     "name": "stdout",
     "output_type": "stream",
     "text": [
      "Wartosc statystyki testowej: 4.78, kwantyl: 3.84\n"
     ]
    }
   ],
   "source": [
    "mu_0 = np.array([2, 2/3]).T\n",
    "chi2_stat = get_T2(X_, Sigma, N, mu_0)\n",
    "t2_kwantyl = (N - k)  / (N - 1) * k * stats.f.ppf(1-alpha, k, N-k)\n",
    "print(f\"Wartosc statystyki testowej: {chi2_stat:.2f}, kwantyl: {chi2_kwantyl:.2f}\")"
   ]
  },
  {
   "attachments": {},
   "cell_type": "markdown",
   "metadata": {},
   "source": [
    "#### 5b"
   ]
  },
  {
   "cell_type": "code",
   "execution_count": 48,
   "metadata": {},
   "outputs": [
    {
     "name": "stdout",
     "output_type": "stream",
     "text": [
      "statystyka: 12.0, kwantyl: 6.61\n"
     ]
    }
   ],
   "source": [
    "C = np.array([[1, 1]])\n",
    "k = C.shape[0]\n",
    "mu_0 = 7/2\n",
    "T2_stat = N * (C @ X_ - mu_0).T @ np.linalg.inv(C @ Sigma @ C.T) @ (C @ X_ - mu_0)\n",
    "t2_kwantyl = (N - k)  / (N - 1) * k * stats.f.ppf(1-alpha, k, N-k)\n",
    "print(f\"statystyka: {T2_stat}, kwantyl: {t2_kwantyl:.2f}\")"
   ]
  },
  {
   "attachments": {},
   "cell_type": "markdown",
   "metadata": {},
   "source": [
    "#### 5c"
   ]
  },
  {
   "cell_type": "code",
   "execution_count": 49,
   "metadata": {},
   "outputs": [
    {
     "name": "stdout",
     "output_type": "stream",
     "text": [
      "statystyka: 0.0, kwantyl: 6.61\n"
     ]
    }
   ],
   "source": [
    "C = np.array([[1, -1]])\n",
    "k = C.shape[0]\n",
    "mu_0 = 1/2\n",
    "T2_stat = N * (C @ X_ - mu_0).T @ np.linalg.inv(C @ Sigma @ C.T) @ (C @ X_ - mu_0)\n",
    "t2_kwantyl = (N - k)  / (N - 1) * k * stats.f.ppf(1-alpha, k, N-k)\n",
    "print(f\"statystyka: {T2_stat}, kwantyl: {t2_kwantyl:.2f}\")"
   ]
  },
  {
   "cell_type": "code",
   "execution_count": 50,
   "metadata": {},
   "outputs": [
    {
     "name": "stdout",
     "output_type": "stream",
     "text": [
      "statystyka: 3.0, kwantyl: 6.61\n"
     ]
    }
   ],
   "source": [
    "C = np.array([[1, 0]])\n",
    "k = C.shape[0]\n",
    "mu_0 = 2\n",
    "T2_stat = N * (C @ X_ - mu_0).T @ np.linalg.inv(C @ Sigma @ C.T) @ (C @ X_ - mu_0)\n",
    "t2_kwantyl = (N - k)  / (N - 1) * k * stats.f.ppf(1-alpha, k, N-k)\n",
    "print(f\"statystyka: {T2_stat}, kwantyl: {t2_kwantyl:.2f}\")"
   ]
  },
  {
   "attachments": {},
   "cell_type": "markdown",
   "metadata": {},
   "source": [
    "## Zadanie 6: równość współrzędnych wektora średniej w jednej populacji\n",
    "czesc 1. Odp: sta: 20,2 kwantyl: 6.4, odrzucamy H0 i wnosimy ze oceny sa rozne \n",
    "czesc 2. jednoczesne przedzialy ufnosci: mia-mib \\in (-0.526, 0.006), mia-mic, mib-mic, jesli nie zawiera zera to sa rozne"
   ]
  },
  {
   "cell_type": "code",
   "execution_count": 51,
   "metadata": {},
   "outputs": [],
   "source": [
    "N = 64\n",
    "X_ = np.array([3.05, 3.31, 2.92]).T\n",
    "S = np.array([\n",
    "    [1.28, 1.05, 0.75],\n",
    "    [1.05, 1.35, 0.93],\n",
    "    [0.75, 0.93, 1.12]\n",
    "])\n",
    "\n",
    "alpha= 0.05\n"
   ]
  },
  {
   "attachments": {},
   "cell_type": "markdown",
   "metadata": {},
   "source": [
    "## Zadanie 7: dwie populacje (rozne N)\n",
    "W danej grupie wektor $X_i = (A_i, B_i, C_i)^T \\sim N_3(\\mu_i, \\Sigma_i)$ reprezentuje wartości trzech składników biochemicznych mózgu u i-tej myszy w tej grupie. Na podstawie danych obliczamy wektor $\\hat X$ będący estymatorem parametru $\\mu$. Testujemy hipotezę\n",
    "$$H_0: \\mu_C = \\mu_T \\quad \\text{vs } H_1: \\mu_C \\neq \\mu_T,$$\n",
    "gdzie indeksy oznaczając odpowiednio grupę testową i kontrolną."
   ]
  },
  {
   "cell_type": "code",
   "execution_count": 52,
   "metadata": {},
   "outputs": [
    {
     "name": "stdout",
     "output_type": "stream",
     "text": [
      "(10, 3)\n",
      "(12, 3)\n"
     ]
    }
   ],
   "source": [
    "N = 24\n",
    "control = pd.DataFrame({\n",
    "    \"A\": [1.21, 0.92, 0.8, 0.85, 0.98, 1.15, 1.10, 1.02, 1.18, 1.09],\n",
    "    \"B\": [0.61, 0.43, -.35, 0.48, 0.42, 0.52, 0.5, 0.53, 0.45, 0.4],\n",
    "    \"C\": [0.7, 0.71, 0.71, 0.68, 0.71, 0.72, 0.75, 0.7, 0.7, 0.69]\n",
    "}\n",
    ")\n",
    "\n",
    "test = pd.DataFrame({\n",
    "    \"A\": [1.4, 1.17, 1.23, 1.19, 1.38, 1.17, 1.31, 1.3, 1.22, 1, 1.12, 1.09],\n",
    "    \"B\": [0.5, 0.39, 0.44, 0.37, 0.42, 0.45, 0.41, 0.47, 0.29, 0.3, 0.27, 0.35],\n",
    "    \"C\": [0.71, 0.69, 0.7, 0.72, 0.71, 0.7, 0.7, 0.67, 0.68, 0.7, 0.72, 0.73]\n",
    "}\n",
    ")\n",
    "\n",
    "print(control.shape)\n",
    "print(test.shape)"
   ]
  },
  {
   "cell_type": "code",
   "execution_count": 53,
   "metadata": {},
   "outputs": [],
   "source": [
    "N1 = control.shape[0]\n",
    "N2 = test.shape[0]\n",
    "alpha = 0.05\n",
    "n = 3"
   ]
  },
  {
   "cell_type": "code",
   "execution_count": null,
   "metadata": {},
   "outputs": [],
   "source": []
  }
 ],
 "metadata": {
  "kernelspec": {
   "display_name": "tf",
   "language": "python",
   "name": "python3"
  },
  "language_info": {
   "codemirror_mode": {
    "name": "ipython",
    "version": 3
   },
   "file_extension": ".py",
   "mimetype": "text/x-python",
   "name": "python",
   "nbconvert_exporter": "python",
   "pygments_lexer": "ipython3",
   "version": "3.9.16"
  },
  "orig_nbformat": 4
 },
 "nbformat": 4,
 "nbformat_minor": 2
}
