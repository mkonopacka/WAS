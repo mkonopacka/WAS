{
 "cells": [
  {
   "attachments": {},
   "cell_type": "markdown",
   "metadata": {},
   "source": [
    "# Lista 7 z Wielowymiarowej Analizy Statystycznej"
   ]
  },
  {
   "attachments": {},
   "cell_type": "markdown",
   "metadata": {},
   "source": [
    "## Setup"
   ]
  },
  {
   "cell_type": "code",
   "execution_count": 1,
   "metadata": {},
   "outputs": [],
   "source": [
    "import numpy as np\n",
    "import pandas as pd\n",
    "\n",
    "corr_full = np.array([\n",
    "    [1,     0.72, -0.44, 0.60],\n",
    "    [0.72,  1,    -0.13, 0.68],\n",
    "    [-0.44, -0.13, 1,    -0.29],\n",
    "    [0.60,  0.68, -0.29, 1]\n",
    "])"
   ]
  },
  {
   "cell_type": "code",
   "execution_count": 2,
   "metadata": {},
   "outputs": [
    {
     "data": {
      "text/plain": [
       "array([11.228, 14.404, 10.926,  3.095])"
      ]
     },
     "execution_count": 2,
     "metadata": {},
     "output_type": "execute_result"
    }
   ],
   "source": [
    "std_devs = np.array([11.228, 14.404, 10.926, 3.095])\n",
    "std_devs"
   ]
  },
  {
   "attachments": {},
   "cell_type": "markdown",
   "metadata": {},
   "source": [
    "## Zadanie 1a: macierz korelacji cząstkowych warunkowanych po jednej zmiennej"
   ]
  },
  {
   "cell_type": "markdown",
   "metadata": {},
   "source": [
    "### Sposób macierzowy\n",
    "Macierze wyznaczamy korzystając ze wzoru podanego na liście 6:\n",
    "$$\\rho_{ij|1...i-1,i+1,...,j-1,j+1,...n} = \\frac{-C_{ij}}{\\sqrt{C_{ii}C_{jj}}},$$\n",
    "gdzie $C_{ij}$ jest dopełnieniem algebraicznym elementu $ij$ w macierzy korelacji zmiennych $X_1, ... X_n$. W podanym wzorze warunkujemy po wszystkich pozostałych zmiennych, więc żeby dostosować to do zadania, jeśli chcemy warunkować tylko po jednej zmiennej $X_k$ musimy jako $C$ podać podmacierz macierzy korelacji składającą się tylko z wierzy i kolumn zmiennych $X_i,X_j,X_k$."
   ]
  },
  {
   "cell_type": "code",
   "execution_count": 3,
   "metadata": {},
   "outputs": [],
   "source": [
    "def get_minor_matrix(A: pd.DataFrame, i, j):\n",
    "    \"Zwraca macierz powstałą przez wykreślenie wiersza i i kolumny j z macierzy A.\"\n",
    "    B = A.to_numpy()\n",
    "    result =  np.delete(np.delete(B, [j], axis = 1), [i], axis = 0)\n",
    "    return result\n",
    "\n",
    "def get_cofactor(A: pd.DataFrame, i, j):\n",
    "    \"\"\"Zwraca dopełnienie algebraiczne elementu NAZWANEGO i, j macierzy A (pd.DataFrame)\"\"\"\n",
    "    # znajdujemy numery indeksów i,j w uciętej macierzy\n",
    "    i_ = np.where(A.index == i)[0][0]\n",
    "    j_ = np.where(A.index == j)[0][0]\n",
    "    A_ = get_minor_matrix(A, i_, j_)\n",
    "    return np.linalg.det(A_)*(-1)**(i_+j_)\n",
    "\n",
    "def get_partial_ij_ks(corr: np.array, i: int, j: int, ks: list) -> float:\n",
    "    \"\"\"Zwraca wartość korelacji zmiennych i,j pod warunkiem zmiennych ks.\"\"\"\n",
    "    # dla przekątnej zwracamy 1\n",
    "    if i == j:\n",
    "        return 1.00\n",
    "    # przesuwamy indeksy o 1 dla zgodności z zadaniem i tworzymy uciętą macierz\n",
    "    named_corr = pd.DataFrame(corr)\n",
    "    named_corr.columns = range(1,len(corr)+1) \n",
    "    named_corr.index = range(1,len(corr)+1)\n",
    "    reduced_corr = named_corr.loc[[i,j] + ks,[i,j] + ks]\n",
    "    \n",
    "    # obliczamy dopełnienia algebraiczne\n",
    "    C_ii = get_cofactor(reduced_corr, i, i)\n",
    "    C_jj = get_cofactor(reduced_corr, j, j)\n",
    "    C_ij = get_cofactor(reduced_corr, i, j)\n",
    "    return - C_ij / (np.sqrt(C_ii*C_jj))\n"
   ]
  },
  {
   "attachments": {},
   "cell_type": "markdown",
   "metadata": {},
   "source": [
    "#### Zadanie 1a.i."
   ]
  },
  {
   "cell_type": "code",
   "execution_count": 4,
   "metadata": {},
   "outputs": [
    {
     "data": {
      "text/html": [
       "<div>\n",
       "<style scoped>\n",
       "    .dataframe tbody tr th:only-of-type {\n",
       "        vertical-align: middle;\n",
       "    }\n",
       "\n",
       "    .dataframe tbody tr th {\n",
       "        vertical-align: top;\n",
       "    }\n",
       "\n",
       "    .dataframe thead th {\n",
       "        text-align: right;\n",
       "    }\n",
       "</style>\n",
       "<table border=\"1\" class=\"dataframe\">\n",
       "  <thead>\n",
       "    <tr style=\"text-align: right;\">\n",
       "      <th></th>\n",
       "      <th>1</th>\n",
       "      <th>2</th>\n",
       "      <th>4</th>\n",
       "    </tr>\n",
       "  </thead>\n",
       "  <tbody>\n",
       "    <tr>\n",
       "      <th>1</th>\n",
       "      <td>1.00</td>\n",
       "      <td>0.74</td>\n",
       "      <td>0.55</td>\n",
       "    </tr>\n",
       "    <tr>\n",
       "      <th>2</th>\n",
       "      <td>0.74</td>\n",
       "      <td>1.00</td>\n",
       "      <td>0.68</td>\n",
       "    </tr>\n",
       "    <tr>\n",
       "      <th>4</th>\n",
       "      <td>0.55</td>\n",
       "      <td>0.68</td>\n",
       "      <td>1.00</td>\n",
       "    </tr>\n",
       "  </tbody>\n",
       "</table>\n",
       "</div>"
      ],
      "text/plain": [
       "      1     2     4\n",
       "1  1.00  0.74  0.55\n",
       "2  0.74  1.00  0.68\n",
       "4  0.55  0.68  1.00"
      ]
     },
     "execution_count": 4,
     "metadata": {},
     "output_type": "execute_result"
    }
   ],
   "source": [
    "# wypełnienie macierzy z wynikami\n",
    "partial_corrs = pd.DataFrame(np.zeros((3,3)))\n",
    "partial_corrs.columns = [1,2,4]\n",
    "partial_corrs.index = [1,2,4]\n",
    "for i in partial_corrs:\n",
    "    for j in partial_corrs.index:\n",
    "        partial_corrs.loc[i,j] = get_partial_ij_ks(corr_full,i,j,[3])\n",
    "\n",
    "partial_corrs.round(2)"
   ]
  },
  {
   "cell_type": "code",
   "execution_count": 19,
   "metadata": {},
   "outputs": [
    {
     "data": {
      "text/html": [
       "<div>\n",
       "<style scoped>\n",
       "    .dataframe tbody tr th:only-of-type {\n",
       "        vertical-align: middle;\n",
       "    }\n",
       "\n",
       "    .dataframe tbody tr th {\n",
       "        vertical-align: top;\n",
       "    }\n",
       "\n",
       "    .dataframe thead th {\n",
       "        text-align: right;\n",
       "    }\n",
       "</style>\n",
       "<table border=\"1\" class=\"dataframe\">\n",
       "  <thead>\n",
       "    <tr style=\"text-align: right;\">\n",
       "      <th></th>\n",
       "      <th>1</th>\n",
       "      <th>2</th>\n",
       "      <th>4</th>\n",
       "    </tr>\n",
       "  </thead>\n",
       "  <tbody>\n",
       "    <tr>\n",
       "      <th>1</th>\n",
       "      <td>1.00</td>\n",
       "      <td>0.74</td>\n",
       "      <td>0.55</td>\n",
       "    </tr>\n",
       "    <tr>\n",
       "      <th>2</th>\n",
       "      <td>0.74</td>\n",
       "      <td>1.00</td>\n",
       "      <td>0.68</td>\n",
       "    </tr>\n",
       "    <tr>\n",
       "      <th>4</th>\n",
       "      <td>0.55</td>\n",
       "      <td>0.68</td>\n",
       "      <td>1.00</td>\n",
       "    </tr>\n",
       "  </tbody>\n",
       "</table>\n",
       "</div>"
      ],
      "text/plain": [
       "      1     2     4\n",
       "1  1.00  0.74  0.55\n",
       "2  0.74  1.00  0.68\n",
       "4  0.55  0.68  1.00"
      ]
     },
     "execution_count": 19,
     "metadata": {},
     "output_type": "execute_result"
    }
   ],
   "source": [
    "# Wersja na kolosa\n",
    "def get_partial_ij_ks_2(corr_full: pd.DataFrame, i: int, j: int, ks: list) -> float:\n",
    "    \"\"\"Zwraca wartość korelacji zmiennych i,j pod warunkiem zmiennych ks.\"\"\"\n",
    "    # dla przekątnej zwracamy 1\n",
    "    if i == j:\n",
    "        return 1.00\n",
    "    corr_reduced = corr_full.loc[[i,j] + ks,[i,j] + ks]\n",
    "    i_ = np.where(corr_reduced.index == i)[0][0]\n",
    "    j_ = np.where(corr_reduced.index == j)[0][0]\n",
    "    C_ij = np.linalg.det(corr_reduced.drop(i, axis = 0).drop(j, axis = 1).to_numpy()) * (-1)**(i_+j_)\n",
    "    C_ii = np.linalg.det(corr_reduced.drop(i, axis = 0).drop(i, axis = 1).to_numpy()) * (-1)**(i_+i_)\n",
    "    C_jj = np.linalg.det(corr_reduced.drop(j, axis = 0).drop(j, axis = 1).to_numpy()) * (-1)**(j_+j_)\n",
    "    return - C_ij / (np.sqrt(C_ii*C_jj))\n",
    "\n",
    "pandas_corr = pd.DataFrame(corr_full).set_axis([1,2,3,4], axis = 0).set_axis([1,2,3,4], axis = 1)\n",
    "partial_corrs = pd.DataFrame(np.zeros((3,3)))\n",
    "partial_corrs.columns = [1,2,4]\n",
    "partial_corrs.index = [1,2,4]\n",
    "for i in partial_corrs:\n",
    "    for j in partial_corrs.index:\n",
    "        partial_corrs.loc[i,j] = get_partial_ij_ks_2(pandas_corr,i,j,[3])\n",
    "\n",
    "partial_corrs.round(2)"
   ]
  },
  {
   "attachments": {},
   "cell_type": "markdown",
   "metadata": {},
   "source": [
    "#### Zadanie 1a.ii."
   ]
  },
  {
   "cell_type": "code",
   "execution_count": 5,
   "metadata": {},
   "outputs": [
    {
     "data": {
      "text/html": [
       "<div>\n",
       "<style scoped>\n",
       "    .dataframe tbody tr th:only-of-type {\n",
       "        vertical-align: middle;\n",
       "    }\n",
       "\n",
       "    .dataframe tbody tr th {\n",
       "        vertical-align: top;\n",
       "    }\n",
       "\n",
       "    .dataframe thead th {\n",
       "        text-align: right;\n",
       "    }\n",
       "</style>\n",
       "<table border=\"1\" class=\"dataframe\">\n",
       "  <thead>\n",
       "    <tr style=\"text-align: right;\">\n",
       "      <th></th>\n",
       "      <th>1</th>\n",
       "      <th>2</th>\n",
       "      <th>3</th>\n",
       "    </tr>\n",
       "  </thead>\n",
       "  <tbody>\n",
       "    <tr>\n",
       "      <th>1</th>\n",
       "      <td>1.00</td>\n",
       "      <td>0.53</td>\n",
       "      <td>-0.35</td>\n",
       "    </tr>\n",
       "    <tr>\n",
       "      <th>2</th>\n",
       "      <td>0.53</td>\n",
       "      <td>1.00</td>\n",
       "      <td>0.10</td>\n",
       "    </tr>\n",
       "    <tr>\n",
       "      <th>3</th>\n",
       "      <td>-0.35</td>\n",
       "      <td>0.10</td>\n",
       "      <td>1.00</td>\n",
       "    </tr>\n",
       "  </tbody>\n",
       "</table>\n",
       "</div>"
      ],
      "text/plain": [
       "      1     2     3\n",
       "1  1.00  0.53 -0.35\n",
       "2  0.53  1.00  0.10\n",
       "3 -0.35  0.10  1.00"
      ]
     },
     "execution_count": 5,
     "metadata": {},
     "output_type": "execute_result"
    }
   ],
   "source": [
    "# wypełnienie macierzy z wynikami\n",
    "partial_corrs = pd.DataFrame(np.zeros((3,3)))\n",
    "partial_corrs.columns = [1,2,3]\n",
    "partial_corrs.index = [1,2,3]\n",
    "for i in partial_corrs:\n",
    "    for j in partial_corrs.index:\n",
    "        partial_corrs.loc[i,j] = get_partial_ij_ks(corr_full,i,j,[4])\n",
    "\n",
    "partial_corrs.round(2)"
   ]
  },
  {
   "attachments": {},
   "cell_type": "markdown",
   "metadata": {},
   "source": [
    "## Zadanie 1b: współczynnik korelacji cząstkowej zbioru wyników warunkowany dwoma zmiennymi\n",
    "Warunkujemy po zmiennych $X_3, X_4$ równocześnie - używamy funkcji z poprzedniego zadania."
   ]
  },
  {
   "cell_type": "code",
   "execution_count": 6,
   "metadata": {},
   "outputs": [
    {
     "data": {
      "text/html": [
       "<div>\n",
       "<style scoped>\n",
       "    .dataframe tbody tr th:only-of-type {\n",
       "        vertical-align: middle;\n",
       "    }\n",
       "\n",
       "    .dataframe tbody tr th {\n",
       "        vertical-align: top;\n",
       "    }\n",
       "\n",
       "    .dataframe thead th {\n",
       "        text-align: right;\n",
       "    }\n",
       "</style>\n",
       "<table border=\"1\" class=\"dataframe\">\n",
       "  <thead>\n",
       "    <tr style=\"text-align: right;\">\n",
       "      <th></th>\n",
       "      <th>1</th>\n",
       "      <th>2</th>\n",
       "    </tr>\n",
       "  </thead>\n",
       "  <tbody>\n",
       "    <tr>\n",
       "      <th>1</th>\n",
       "      <td>1.00</td>\n",
       "      <td>0.61</td>\n",
       "    </tr>\n",
       "    <tr>\n",
       "      <th>2</th>\n",
       "      <td>0.61</td>\n",
       "      <td>1.00</td>\n",
       "    </tr>\n",
       "  </tbody>\n",
       "</table>\n",
       "</div>"
      ],
      "text/plain": [
       "      1     2\n",
       "1  1.00  0.61\n",
       "2  0.61  1.00"
      ]
     },
     "execution_count": 6,
     "metadata": {},
     "output_type": "execute_result"
    }
   ],
   "source": [
    "# wypełnienie macierzy z wynikami\n",
    "partial_corrs = pd.DataFrame(np.zeros((2,2)))\n",
    "partial_corrs.columns = [1,2]\n",
    "partial_corrs.index = [1,2]\n",
    "for i in partial_corrs:\n",
    "    for j in partial_corrs.index:\n",
    "        partial_corrs.loc[i,j] = get_partial_ij_ks(corr_full,i,j,[3,4])\n",
    "\n",
    "partial_corrs.round(2)"
   ]
  },
  {
   "attachments": {},
   "cell_type": "markdown",
   "metadata": {},
   "source": [
    "**Komentarz:** Korelacja pomiędzy zmiennymi 1 i 2 wynosi około 0.61."
   ]
  },
  {
   "attachments": {},
   "cell_type": "markdown",
   "metadata": {},
   "source": [
    "## Zadanie 1c: Współczynnik korelacji wielokrotnej\n",
    "Współczynnik korelacji wielokrotnej wyraża współzależność pomiędzy jedną zmienną losową a wektorem losowym, tj. maksymalną możliwą do uzyskania korelację Pearsona pomiędzy zmienną $X_1$ a dowolną kombinacją liniową cech $X_2, ... X_n$:\n",
    "$$R_{1|2...n} = \\sup_{a \\in R^{n-1}} corr(X_1, a^T (X_2,...X_n)).$$\n",
    "\n",
    "Obliczamy ją ze wzoru macierzowego\n",
    "$$R_{i|1...i-1,i+1,...n} = \\sqrt{1 - \\frac{\\det C}{C_{ii}}},$$\n",
    "gdzie $C$ to pełna macierz korelacji $corr(X_i,X_j)$ a $C_{ii}$ jest dopełnieniem algebraicznym jej elementu $ii$."
   ]
  },
  {
   "cell_type": "code",
   "execution_count": 7,
   "metadata": {},
   "outputs": [],
   "source": [
    "def get_multiple_correlation(corr: np.array, i: int, ks: list = None) -> float:\n",
    "    \"\"\"Zwraca współczynnik korelacji wielokrotnej pomiędzy zmienną i a zbiorem cech ks.\"\"\"\n",
    "    # przesuwamy indeksy o 1 dla zgodności z zadaniem i tworzymy uciętą macierz\n",
    "    named_corr = pd.DataFrame(corr)\n",
    "    named_corr.columns = range(1,len(corr)+1) \n",
    "    named_corr.index = range(1,len(corr)+1)\n",
    "    # jeśli nie podano ks, to weź wszystko oprócz i\n",
    "    if ks is None:\n",
    "        ks = [k for k in named_corr.index.values if k != i]\n",
    "    reduced_corr = named_corr.loc[[i] + ks,[i] + ks]\n",
    "    det_C = np.linalg.det(reduced_corr.to_numpy())\n",
    "    C_ii = get_cofactor(reduced_corr, i, i)\n",
    "    return np.sqrt(1 - det_C/C_ii)"
   ]
  },
  {
   "cell_type": "code",
   "execution_count": 8,
   "metadata": {},
   "outputs": [
    {
     "data": {
      "text/plain": [
       "0.8"
      ]
     },
     "execution_count": 8,
     "metadata": {},
     "output_type": "execute_result"
    }
   ],
   "source": [
    "get_multiple_correlation(corr_full, 1).round(2) # i."
   ]
  },
  {
   "cell_type": "code",
   "execution_count": 9,
   "metadata": {},
   "outputs": [
    {
     "data": {
      "text/plain": [
       "0.81"
      ]
     },
     "execution_count": 9,
     "metadata": {},
     "output_type": "execute_result"
    }
   ],
   "source": [
    "get_multiple_correlation(corr_full, 2).round(2) # ii."
   ]
  },
  {
   "cell_type": "code",
   "execution_count": 10,
   "metadata": {},
   "outputs": [
    {
     "data": {
      "text/plain": [
       "0.68"
      ]
     },
     "execution_count": 10,
     "metadata": {},
     "output_type": "execute_result"
    }
   ],
   "source": [
    "get_multiple_correlation(corr_full, 2, [3,4]).round(2) # iii."
   ]
  },
  {
   "attachments": {},
   "cell_type": "markdown",
   "metadata": {},
   "source": [
    "## Zadanie 1d: Wektor regresji cechy 1 na 2,3,4\n",
    "**UWAGA! W zadaniu mamy macierz KORELACJI, a korzystamy tu z macierzy KOWARIANCJI, więc trzeba najpierw je przekonwertować!**\n",
    "Wektor regresji $X$ na $Y$ obliczamy ze wzoru\n",
    "$$E(X|Y = y) = EX + \\Sigma_{XY}\\Sigma_{YY}^{-1}(y - EY),$$\n",
    "gdzie $\\Sigma$ to podmacierze blokowe macierzy korelacji wektora $(X,Y)^T$. Ponieważ nie znamy tutaj konkretnych wartości $Y$, tzn. wektora $(X_2, X_3, X_4)$ ani wartości oczekiwanych, wyliczamy po prostu macierz współczynników regresji, tj.\n",
    "$$\\Sigma_{XY}\\Sigma_{YY}^{-1}.$$"
   ]
  },
  {
   "attachments": {},
   "cell_type": "markdown",
   "metadata": {},
   "source": [
    "Macierz korelacji zamieniamy na macierz kowariancji następująco:\n",
    "$$corr(X,Y) = \\frac{cov(X,Y)}{\\sigma_X \\sigma_Y} \\implies cov(X,Y) = corr(X,Y)\\sigma_X \\sigma_Y,$$\n",
    "tzn. musimy przemnożyć wiersz $i$ przez $\\sigma_i$ a kolumnę $j$ przez $\\sigma_j.$ Robimy to w sposób macierzowy."
   ]
  },
  {
   "cell_type": "code",
   "execution_count": 4,
   "metadata": {},
   "outputs": [
    {
     "data": {
      "text/plain": [
       "array([[11.228,  0.   ,  0.   ,  0.   ],\n",
       "       [ 0.   , 14.404,  0.   ,  0.   ],\n",
       "       [ 0.   ,  0.   , 10.926,  0.   ],\n",
       "       [ 0.   ,  0.   ,  0.   ,  3.095]])"
      ]
     },
     "execution_count": 4,
     "metadata": {},
     "output_type": "execute_result"
    }
   ],
   "source": [
    "diagonal_stds = np.diag(std_devs)\n",
    "diagonal_stds"
   ]
  },
  {
   "cell_type": "code",
   "execution_count": 5,
   "metadata": {},
   "outputs": [
    {
     "data": {
      "text/plain": [
       "array([[126.067984  , 116.44424064, -53.97793632,  20.850396  ],\n",
       "       [116.44424064, 207.475216  , -20.45915352,  30.3146584 ],\n",
       "       [-53.97793632, -20.45915352, 119.377476  ,  -9.8066313 ],\n",
       "       [ 20.850396  ,  30.3146584 ,  -9.8066313 ,   9.579025  ]])"
      ]
     },
     "execution_count": 5,
     "metadata": {},
     "output_type": "execute_result"
    }
   ],
   "source": [
    "cov_full = diagonal_stds @ corr_full @ diagonal_stds # mnożymy z lewej i prawej przez to samo\n",
    "cov_full"
   ]
  },
  {
   "cell_type": "code",
   "execution_count": 6,
   "metadata": {},
   "outputs": [
    {
     "data": {
      "text/plain": [
       "array([[ 0.49, -0.35,  0.29]])"
      ]
     },
     "execution_count": 6,
     "metadata": {},
     "output_type": "execute_result"
    }
   ],
   "source": [
    "def get_regression_matrix(cov, xs, ys):\n",
    "    \"\"\"Zwraca macierz współczynników regresji podwektora xs na podwektor ys w oparciu o macierz KOWARIANCJI.\"\"\"\n",
    "    # przesuwamy indeksy o 1 dla zgodności z zadaniem i wydzielamy macierze blokowe\n",
    "    named_cov = pd.DataFrame(cov)\n",
    "    named_cov.columns = range(1,len(cov)+1) \n",
    "    named_cov.index = range(1,len(cov)+1)\n",
    "    Sigma_XY = named_cov.loc[xs,ys].to_numpy()\n",
    "    Sigma_YY = named_cov.loc[ys,ys].to_numpy()\n",
    "    return Sigma_XY @ np.linalg.inv(Sigma_YY)\n",
    "\n",
    "get_regression_matrix(cov_full, [1], [2,3,4]).round(2)"
   ]
  },
  {
   "attachments": {},
   "cell_type": "markdown",
   "metadata": {},
   "source": [
    "## Zadanie 1e: Współczynniki korelacji kanonicznej (tego ma nie być)\n",
    "Korelację kanoniczną definiujemy jako maksymalną korelację liniową pomiędzy kombinacjami liniowymi współrzędnych tych wektorów, tzn. podobnie do wielokrotnej ale teraz $X_1$ jest wektorem (zmiana nazwy na $X$, $X_2 \\rightarrow Y$):\n",
    "$$\\sup_{a \\in R^p, b \\in R^q} corr(a^T X, b^T Y),$$\n",
    "gdzie $X, Y$ są wektorami rozmiarów $p$ i $q$. Współczynniki $a$ i $b$ możemy znaleźć w następujący sposób:\n",
    "\n",
    "1. Wyznaczamy macierz $S = \\Sigma_{XX}^{-1}\\Sigma_{XY}\\Sigma_{YY}^{-1}\\Sigma_{YX}.$\n",
    "2. Obliczamy wartości własne $\\rho^2_1, ..., \\rho^2_p$ macierzy $S$. \n",
    "\n",
    "**Uwaga: Dokładnie $z = ord(\\Sigma_{XY}) = min(p,q)$ z nich powinno być niezerowe. Ponadto są to te same wartości własne, co macierzy $S'$ obliczonej analogicznie z zamianą indeksów 1 i 2 miejscami.**\n",
    "\n",
    "3. Pierwiastki z wartości własnych są nazywane współczynnikami korelacji kanonicznej."
   ]
  },
  {
   "cell_type": "code",
   "execution_count": 12,
   "metadata": {},
   "outputs": [],
   "source": [
    "def compute_canonical_correlation(corr: np.array, xs: list, ys: list):\n",
    "    \"\"\"Obliczawspółczynniki korelacji kanonicznej i pośrednie kroki między zestawami cech xs i ys.\"\"\"\n",
    "    # przesuwamy indeksy o 1 dla zgodności z zadaniem i wydzielamy macierze blokowe\n",
    "    named_corr = pd.DataFrame(corr)\n",
    "    named_corr.columns = range(1,len(corr)+1) \n",
    "    named_corr.index = range(1,len(corr)+1)\n",
    "    Sigma_XX = named_corr.loc[xs,xs].to_numpy()\n",
    "    Sigma_YY = named_corr.loc[ys,ys].to_numpy()\n",
    "    Sigma_XY = named_corr.loc[xs,ys].to_numpy()\n",
    "    Sigma_YX = named_corr.loc[ys,xs].to_numpy() \n",
    "    assert np.all(Sigma_XY == Sigma_YX.T)\n",
    "    # Wyznaczamy macierze Sa i Sb\n",
    "    Sa = np.linalg.inv(Sigma_XX) @ Sigma_XY @ np.linalg.inv(Sigma_YY) @ Sigma_YX\n",
    "    Sb = np.linalg.inv(Sigma_YY) @ Sigma_YX @ np.linalg.inv(Sigma_XX) @ Sigma_XY\n",
    "    # Znajdujemy wartości własne tych macierzy (auto posortowane)\n",
    "    Sa_vals, _ = np.linalg.eig(Sa)\n",
    "    Sb_vals, _ = np.linalg.eig(Sb)\n",
    "    assert np.all(Sa_vals >= 0)\n",
    "    assert np.all(Sb_vals >= 0)\n",
    "    # Niezerowe wartosci wlasne\n",
    "    Sa_nz_vals = Sa_vals[Sa_vals > 10**(-14)] # dokładność numeryczna\n",
    "    Sb_nz_vals = Sb_vals[Sb_vals > 10**(-14)]\n",
    "    assert np.all(np.abs(Sa_nz_vals - Sb_nz_vals) < 10**(-14))\n",
    "    # Wspolczynniki korelacji kanonicznej\n",
    "    a = np.sqrt(Sa_nz_vals)\n",
    "    b = np.sqrt(Sb_nz_vals)\n",
    "    print(f\"a = {a.round(2)}\")\n",
    "    print(f\"b = {b.round(2)}\")"
   ]
  },
  {
   "cell_type": "code",
   "execution_count": 15,
   "metadata": {},
   "outputs": [
    {
     "name": "stdout",
     "output_type": "stream",
     "text": [
      "a = [0.48 0.7 ]\n",
      "b = [0.48 0.7 ]\n"
     ]
    }
   ],
   "source": [
    "compute_canonical_correlation(corr_full, [1,2], [3,4]) # Czy one są takie same?"
   ]
  }
 ],
 "metadata": {
  "kernelspec": {
   "display_name": "base",
   "language": "python",
   "name": "python3"
  },
  "language_info": {
   "codemirror_mode": {
    "name": "ipython",
    "version": 3
   },
   "file_extension": ".py",
   "mimetype": "text/x-python",
   "name": "python",
   "nbconvert_exporter": "python",
   "pygments_lexer": "ipython3",
   "version": "3.9.16"
  },
  "orig_nbformat": 4
 },
 "nbformat": 4,
 "nbformat_minor": 2
}
